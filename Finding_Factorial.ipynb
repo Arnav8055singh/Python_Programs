{
  "nbformat": 4,
  "nbformat_minor": 0,
  "metadata": {
    "colab": {
      "provenance": [],
      "authorship_tag": "ABX9TyN0W7aWkSts40H0JGRZmBdC",
      "include_colab_link": true
    },
    "kernelspec": {
      "name": "python3",
      "display_name": "Python 3"
    },
    "language_info": {
      "name": "python"
    }
  },
  "cells": [
    {
      "cell_type": "markdown",
      "metadata": {
        "id": "view-in-github",
        "colab_type": "text"
      },
      "source": [
        "<a href=\"https://colab.research.google.com/github/Arnav8055singh/Python_Programs/blob/main/Finding_Factorial.ipynb\" target=\"_parent\"><img src=\"https://colab.research.google.com/assets/colab-badge.svg\" alt=\"Open In Colab\"/></a>"
      ]
    },
    {
      "cell_type": "code",
      "execution_count": null,
      "metadata": {
        "id": "9U7vcQ-r4gvr"
      },
      "outputs": [],
      "source": [
        "#Part1-Calculate the factorial of a given number.\n",
        "#Part-2 Find the number of trailing zeros in that factorial."
      ]
    },
    {
      "cell_type": "code",
      "source": [
        "def factorial(number):\n",
        "  if number==0 or number==1:\n",
        "   return 1\n",
        "  else:\n",
        "      return number * factorial(number-1)\n",
        "\n",
        "def factorialTrailingZeros(number):\n",
        "  count = 0\n",
        "  i = 5\n",
        "  while(number//i!=0):\n",
        "    count += int(number/i)\n",
        "    i = i*5\n",
        "  return count\n",
        "\n",
        "if __name__ == '__main__':\n",
        "  number = int(input(\"Enter a number:\"))\n",
        " # fac = factorial(number)\n",
        "  #print(f\"The factorial is {fac}\")\n",
        "  print(factorialTrailingZeros(number))"
      ],
      "metadata": {
        "colab": {
          "base_uri": "https://localhost:8080/"
        },
        "id": "ozFDuFZG4zBS",
        "outputId": "6cbe4a7b-08d4-4073-ff61-ac57ea14ca54"
      },
      "execution_count": 19,
      "outputs": [
        {
          "output_type": "stream",
          "name": "stdout",
          "text": [
            "Enter a number:1000\n",
            "249\n"
          ]
        }
      ]
    }
  ]
}