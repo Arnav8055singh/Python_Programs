{
  "nbformat": 4,
  "nbformat_minor": 0,
  "metadata": {
    "colab": {
      "provenance": [],
      "authorship_tag": "ABX9TyPcukNut1fkX7BcaUDIWygC",
      "include_colab_link": true
    },
    "kernelspec": {
      "name": "python3",
      "display_name": "Python 3"
    },
    "language_info": {
      "name": "python"
    }
  },
  "cells": [
    {
      "cell_type": "markdown",
      "metadata": {
        "id": "view-in-github",
        "colab_type": "text"
      },
      "source": [
        "<a href=\"https://colab.research.google.com/github/Arnav8055singh/Python_Programs/blob/main/Receipt_Generator.ipynb\" target=\"_parent\"><img src=\"https://colab.research.google.com/assets/colab-badge.svg\" alt=\"Open In Colab\"/></a>"
      ]
    },
    {
      "cell_type": "code",
      "execution_count": null,
      "metadata": {
        "id": "T1qDgL52wDPm"
      },
      "outputs": [],
      "source": [
        "# WRITE A PYTHON PROGRAM WHICH WILL KEEP ADDING A STREAM OF NUMBERS INPUTTED BY THE USER. THE ADDING STOPS AS SOON AS USER PRESSES QUIT (Q BUTTON) ON THE KEYBORD.\n",
        "\n"
      ]
    },
    {
      "cell_type": "code",
      "source": [
        "\n",
        "sum = 0\n",
        "while(True):\n",
        "  number = input(\"Enter the price: \\n\")\n",
        "  if (number!='q'):\n",
        "   sum = sum + int(number)\n",
        "   print(f\"Your Order so far:{sum}\")\n",
        "\n",
        "  else:\n",
        "    print(\"Thanks for using our calculator\")\n",
        "    print(f\"Your Bill total is {sum}\\n\")\n",
        "    break\n",
        "\n",
        "print(\"Sri General Stores Stores\")\n",
        "\n"
      ],
      "metadata": {
        "id": "ISdW4hlNw3PC"
      },
      "execution_count": null,
      "outputs": []
    }
  ]
}